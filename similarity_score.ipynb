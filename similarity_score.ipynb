{
  "cells": [
    {
      "cell_type": "code",
      "execution_count": null,
      "metadata": {
        "colab": {
          "base_uri": "https://localhost:8080/"
        },
        "id": "phocriKFuwPl",
        "outputId": "fff67168-d236-45f8-f548-4df44090568c"
      },
      "outputs": [],
      "source": [
        "pip install googletrans==4.0.0-rc1"
      ]
    },
    {
      "cell_type": "markdown",
      "metadata": {
        "id": "16qDL5SzwIbM"
      },
      "source": [
        "Function to test using google translate\n"
      ]
    },
    {
      "cell_type": "code",
      "execution_count": null,
      "metadata": {
        "id": "_QGQ0zPqv01q"
      },
      "outputs": [],
      "source": [
        "from googletrans import Translator, LANGUAGES\n",
        "\n",
        "def translate_text(text, src_lang='en', dest_lang='de'):\n",
        "    translator = Translator()\n",
        "    translation = translator.translate(text, src=src_lang, dest=dest_lang)\n",
        "    return translation.text\n",
        "\n"
      ]
    },
    {
      "cell_type": "markdown",
      "metadata": {
        "id": "E3ofdlGfwFrW"
      },
      "source": [
        "Example usage to test\n"
      ]
    },
    {
      "cell_type": "code",
      "execution_count": null,
      "metadata": {
        "colab": {
          "base_uri": "https://localhost:8080/"
        },
        "id": "tuZxgfgpv2yp",
        "outputId": "d57b0d02-3fd8-4082-a1b1-11eaa5645814"
      },
      "outputs": [],
      "source": [
        "# Example usage\n",
        "english_text = \"Hello, how are you?\"\n",
        "german_translation = translate_text(english_text, 'en', 'de')\n",
        "print(\"English to German:\", german_translation)\n",
        "\n",
        "german_text = \"Hallo, wie geht es dir?\"\n",
        "english_translation = translate_text(german_text, 'de', 'en')\n",
        "print(\"German to English:\", english_translation)"
      ]
    },
    {
      "cell_type": "markdown",
      "metadata": {
        "id": "3inaJtaywRU-"
      },
      "source": [
        "Testing sentence similarity, one from model and one from google translate"
      ]
    },
    {
      "cell_type": "code",
      "execution_count": null,
      "metadata": {
        "colab": {
          "base_uri": "https://localhost:8080/"
        },
        "id": "EGov0A1lwP5W",
        "outputId": "8c29858c-a619-40c7-ce8d-3bbeef6c5af4"
      },
      "outputs": [],
      "source": [
        "from sklearn.feature_extraction.text import TfidfVectorizer\n",
        "from sklearn.metrics.pairwise import cosine_similarity\n",
        "\n",
        "def calculate_similarity(model_sentence, google_translate_sentence):\n",
        "    # Convert sentences to lowercase and split into words\n",
        "    model_words = model_sentence.lower().split()\n",
        "    google_translate_words = google_translate_sentence.lower().split()\n",
        "\n",
        "    # Treat each word as a document for vectorization\n",
        "    all_words = model_words + google_translate_words\n",
        "    vectorizer = TfidfVectorizer().fit(all_words)\n",
        "\n",
        "    # Transform words to vectors\n",
        "    model_vector = vectorizer.transform([' '.join(model_words)])\n",
        "    google_translate_vector = vectorizer.transform([' '.join(google_translate_words)])\n",
        "\n",
        "    # Calculate cosine similarity between word vectors\n",
        "    similarity = cosine_similarity(model_vector, google_translate_vector)\n",
        "    return similarity[0][0]\n",
        "\n",
        "# Example sentences\n",
        "model_sentence = \"Tyger Tyger, hell brennen, In den Wäldern der Nacht; Welche unsterbliche Hand oder Augen, Könnte deine Angstsymmetrie rahmen?\"\n",
        "google_translate_sentence = \"Tyger Tyger, brennend hell, In den Wäldern der Nacht; Was für eine unsterbliche Hand oder ein Auge, Könnte Ihre ängstliche Symmetrie rahmen?\"\n",
        "\n",
        "\n",
        "# Calculate similarity\n",
        "similarity = calculate_similarity(model_sentence, google_translate_sentence)\n",
        "print(f\"The similarity is: {similarity * 100:.2f}%\")"
      ]
    }
  ],
  "metadata": {
    "colab": {
      "provenance": []
    },
    "kernelspec": {
      "display_name": "Python 3",
      "name": "python3"
    },
    "language_info": {
      "name": "python"
    }
  },
  "nbformat": 4,
  "nbformat_minor": 0
}
